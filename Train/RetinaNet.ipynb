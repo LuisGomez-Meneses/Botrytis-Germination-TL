{
  "nbformat": 4,
  "nbformat_minor": 0,
  "metadata": {
    "colab": {
      "provenance": [],
      "gpuType": "T4"
    },
    "kernelspec": {
      "name": "python3",
      "display_name": "Python 3"
    },
    "language_info": {
      "name": "python"
    },
    "accelerator": "GPU"
  },
  "cells": [
    {
      "cell_type": "code",
      "execution_count": null,
      "metadata": {
        "colab": {
          "base_uri": "https://localhost:8080/"
        },
        "id": "nkefrr2QLCkC",
        "outputId": "6a2a45d7-0ea0-48b6-ee4c-070d4f7f8649"
      },
      "outputs": [
        {
          "output_type": "stream",
          "name": "stderr",
          "text": [
            "Epoch 1/50: 100%|██████████| 25/25 [09:04<00:00, 21.78s/it]\n"
          ]
        },
        {
          "output_type": "stream",
          "name": "stdout",
          "text": [
            "\n",
            "[Epoch 1] Loss: box=14.9342 cls=33.6240 | Val: box=3.8791, cls=5.8559 | mAP50=0.0076\n",
            "\n",
            "📊 Métricas por clase:\n",
            "  muerto: P=0.0, R=0.0, F1=0.0 (TP=0, FP=63, FN=234)\n",
            "  vivo: P=0.0151, R=0.8031, F1=0.0296 (TP=208, FP=13585, FN=51)\n"
          ]
        },
        {
          "output_type": "stream",
          "name": "stderr",
          "text": [
            "Epoch 2/50: 100%|██████████| 25/25 [02:17<00:00,  5.51s/it]\n"
          ]
        },
        {
          "output_type": "stream",
          "name": "stdout",
          "text": [
            "\n",
            "[Epoch 2] Loss: box=13.6440 cls=14.3663 | Val: box=3.6323, cls=2.8549 | mAP50=0.0282\n",
            "\n",
            "📊 Métricas por clase:\n",
            "  muerto: P=0.0312, R=0.4444, F1=0.0584 (TP=104, FP=3225, FN=130)\n",
            "  vivo: P=0.0253, R=0.9252, F1=0.0493 (TP=235, FP=9050, FN=19)\n"
          ]
        },
        {
          "output_type": "stream",
          "name": "stderr",
          "text": [
            "Epoch 3/50: 100%|██████████| 25/25 [02:18<00:00,  5.54s/it]\n"
          ]
        },
        {
          "output_type": "stream",
          "name": "stdout",
          "text": [
            "\n",
            "[Epoch 3] Loss: box=12.0224 cls=8.4673 | Val: box=3.0389, cls=2.0964 | mAP50=0.0679\n",
            "\n",
            "📊 Métricas por clase:\n",
            "  muerto: P=0.0959, R=0.7811, F1=0.1709 (TP=182, FP=1715, FN=51)\n",
            "  vivo: P=0.04, R=0.9331, F1=0.0767 (TP=237, FP=5691, FN=17)\n"
          ]
        },
        {
          "output_type": "stream",
          "name": "stderr",
          "text": [
            "Epoch 4/50: 100%|██████████| 25/25 [02:17<00:00,  5.51s/it]\n"
          ]
        },
        {
          "output_type": "stream",
          "name": "stdout",
          "text": [
            "\n",
            "[Epoch 4] Loss: box=9.9602 cls=6.5806 | Val: box=2.6473, cls=1.7269 | mAP50=0.1573\n",
            "\n",
            "📊 Métricas por clase:\n",
            "  muerto: P=0.2471, R=0.8509, F1=0.383 (TP=194, FP=591, FN=34)\n",
            "  vivo: P=0.0676, R=0.9533, F1=0.1263 (TP=245, FP=3378, FN=12)\n"
          ]
        },
        {
          "output_type": "stream",
          "name": "stderr",
          "text": [
            "Epoch 5/50: 100%|██████████| 25/25 [02:16<00:00,  5.48s/it]\n"
          ]
        },
        {
          "output_type": "stream",
          "name": "stdout",
          "text": [
            "\n",
            "[Epoch 5] Loss: box=8.4298 cls=4.8034 | Val: box=2.1827, cls=1.1120 | mAP50=0.1645\n",
            "\n",
            "📊 Métricas por clase:\n",
            "  muerto: P=0.2326, R=0.9485, F1=0.3736 (TP=221, FP=729, FN=12)\n",
            "  vivo: P=0.0964, R=0.9846, F1=0.1756 (TP=255, FP=2391, FN=4)\n",
            "\n",
            "💾 Modelo guardado: retinanet_epoch_5.pth\n",
            "📈 Métricas parciales guardadas en: /content/drive/MyDrive/experimento_23_062025/RetinaNet_dataset/retinanet_metrics_partial.csv\n"
          ]
        },
        {
          "output_type": "stream",
          "name": "stderr",
          "text": [
            "Epoch 6/50: 100%|██████████| 25/25 [02:17<00:00,  5.48s/it]\n"
          ]
        },
        {
          "output_type": "stream",
          "name": "stdout",
          "text": [
            "\n",
            "[Epoch 6] Loss: box=6.9444 cls=3.4577 | Val: box=1.7807, cls=0.8390 | mAP50=0.2943\n",
            "\n",
            "📊 Métricas por clase:\n",
            "  muerto: P=0.4513, R=0.9437, F1=0.6106 (TP=218, FP=265, FN=13)\n",
            "  vivo: P=0.1373, R=0.9922, F1=0.2412 (TP=256, FP=1609, FN=2)\n"
          ]
        },
        {
          "output_type": "stream",
          "name": "stderr",
          "text": [
            "Epoch 7/50: 100%|██████████| 25/25 [02:17<00:00,  5.51s/it]\n"
          ]
        },
        {
          "output_type": "stream",
          "name": "stdout",
          "text": [
            "\n",
            "[Epoch 7] Loss: box=5.7032 cls=2.5413 | Val: box=1.5208, cls=0.6557 | mAP50=0.4040\n",
            "\n",
            "📊 Métricas por clase:\n",
            "  muerto: P=0.5816, R=0.9609, F1=0.7246 (TP=221, FP=159, FN=9)\n",
            "  vivo: P=0.2264, R=0.9961, F1=0.369 (TP=257, FP=878, FN=1)\n"
          ]
        },
        {
          "output_type": "stream",
          "name": "stderr",
          "text": [
            "Epoch 8/50: 100%|██████████| 25/25 [02:16<00:00,  5.47s/it]\n"
          ]
        },
        {
          "output_type": "stream",
          "name": "stdout",
          "text": [
            "\n",
            "[Epoch 8] Loss: box=5.2456 cls=2.1370 | Val: box=1.3871, cls=0.6964 | mAP50=0.4345\n",
            "\n",
            "📊 Métricas por clase:\n",
            "  muerto: P=0.5722, R=0.97, F1=0.7197 (TP=226, FP=169, FN=7)\n",
            "  vivo: P=0.2968, R=0.9961, F1=0.4573 (TP=257, FP=609, FN=1)\n"
          ]
        },
        {
          "output_type": "stream",
          "name": "stderr",
          "text": [
            "Epoch 9/50: 100%|██████████| 25/25 [02:17<00:00,  5.51s/it]\n"
          ]
        },
        {
          "output_type": "stream",
          "name": "stdout",
          "text": [
            "\n",
            "[Epoch 9] Loss: box=4.3083 cls=1.6736 | Val: box=1.2227, cls=0.5638 | mAP50=0.5065\n",
            "\n",
            "📊 Métricas por clase:\n",
            "  muerto: P=0.6676, R=0.9872, F1=0.7966 (TP=231, FP=115, FN=3)\n",
            "  vivo: P=0.3454, R=1.0, F1=0.5134 (TP=258, FP=489, FN=0)\n"
          ]
        },
        {
          "output_type": "stream",
          "name": "stderr",
          "text": [
            "Epoch 10/50: 100%|██████████| 25/25 [02:17<00:00,  5.52s/it]\n"
          ]
        },
        {
          "output_type": "stream",
          "name": "stdout",
          "text": [
            "\n",
            "[Epoch 10] Loss: box=3.9724 cls=1.3338 | Val: box=1.1536, cls=0.4387 | mAP50=0.4847\n",
            "\n",
            "📊 Métricas por clase:\n",
            "  muerto: P=0.57, R=0.9744, F1=0.7192 (TP=228, FP=172, FN=6)\n",
            "  vivo: P=0.3994, R=1.0, F1=0.5708 (TP=258, FP=388, FN=0)\n",
            "\n",
            "💾 Modelo guardado: retinanet_epoch_10.pth\n",
            "📈 Métricas parciales guardadas en: /content/drive/MyDrive/experimento_23_062025/RetinaNet_dataset/retinanet_metrics_partial.csv\n"
          ]
        },
        {
          "output_type": "stream",
          "name": "stderr",
          "text": [
            "Epoch 11/50: 100%|██████████| 25/25 [02:18<00:00,  5.53s/it]\n"
          ]
        },
        {
          "output_type": "stream",
          "name": "stdout",
          "text": [
            "\n",
            "[Epoch 11] Loss: box=3.6119 cls=1.0852 | Val: box=1.2096, cls=0.4018 | mAP50=0.5168\n",
            "\n",
            "📊 Métricas por clase:\n",
            "  muerto: P=0.5779, R=0.9829, F1=0.7278 (TP=230, FP=168, FN=4)\n",
            "  vivo: P=0.4557, R=0.9961, F1=0.6253 (TP=257, FP=307, FN=1)\n"
          ]
        },
        {
          "output_type": "stream",
          "name": "stderr",
          "text": [
            "Epoch 12/50: 100%|██████████| 25/25 [02:18<00:00,  5.54s/it]\n"
          ]
        },
        {
          "output_type": "stream",
          "name": "stdout",
          "text": [
            "\n",
            "[Epoch 12] Loss: box=3.1151 cls=0.8415 | Val: box=1.0729, cls=0.3277 | mAP50=0.5860\n",
            "\n",
            "📊 Métricas por clase:\n",
            "  muerto: P=0.6591, R=0.9915, F1=0.7918 (TP=232, FP=120, FN=2)\n",
            "  vivo: P=0.5129, R=1.0, F1=0.6781 (TP=258, FP=245, FN=0)\n"
          ]
        },
        {
          "output_type": "stream",
          "name": "stderr",
          "text": [
            "Epoch 13/50: 100%|██████████| 25/25 [02:17<00:00,  5.48s/it]\n"
          ]
        },
        {
          "output_type": "stream",
          "name": "stdout",
          "text": [
            "\n",
            "[Epoch 13] Loss: box=2.9781 cls=0.7047 | Val: box=1.1302, cls=0.3545 | mAP50=0.6981\n",
            "\n",
            "📊 Métricas por clase:\n",
            "  muerto: P=0.7304, R=0.9957, F1=0.8427 (TP=233, FP=86, FN=1)\n",
            "  vivo: P=0.6658, R=0.9961, F1=0.7981 (TP=257, FP=129, FN=1)\n"
          ]
        },
        {
          "output_type": "stream",
          "name": "stderr",
          "text": [
            "Epoch 14/50: 100%|██████████| 25/25 [02:16<00:00,  5.47s/it]\n"
          ]
        },
        {
          "output_type": "stream",
          "name": "stdout",
          "text": [
            "\n",
            "[Epoch 14] Loss: box=3.0095 cls=0.6560 | Val: box=0.9771, cls=0.2936 | mAP50=0.6643\n",
            "\n",
            "📊 Métricas por clase:\n",
            "  muerto: P=0.6754, R=0.9957, F1=0.8048 (TP=233, FP=112, FN=1)\n",
            "  vivo: P=0.6532, R=1.0, F1=0.7902 (TP=258, FP=137, FN=0)\n"
          ]
        },
        {
          "output_type": "stream",
          "name": "stderr",
          "text": [
            "Epoch 15/50: 100%|██████████| 25/25 [02:17<00:00,  5.49s/it]\n"
          ]
        },
        {
          "output_type": "stream",
          "name": "stdout",
          "text": [
            "\n",
            "[Epoch 15] Loss: box=2.6554 cls=0.5191 | Val: box=1.0332, cls=0.3214 | mAP50=0.6733\n",
            "\n",
            "📊 Métricas por clase:\n",
            "  muerto: P=0.7086, R=0.9914, F1=0.8265 (TP=231, FP=95, FN=2)\n",
            "  vivo: P=0.6379, R=1.0, F1=0.7789 (TP=259, FP=147, FN=0)\n",
            "\n",
            "💾 Modelo guardado: retinanet_epoch_15.pth\n",
            "📈 Métricas parciales guardadas en: /content/drive/MyDrive/experimento_23_062025/RetinaNet_dataset/retinanet_metrics_partial.csv\n"
          ]
        },
        {
          "output_type": "stream",
          "name": "stderr",
          "text": [
            "Epoch 16/50: 100%|██████████| 25/25 [02:17<00:00,  5.50s/it]\n"
          ]
        },
        {
          "output_type": "stream",
          "name": "stdout",
          "text": [
            "\n",
            "[Epoch 16] Loss: box=2.3781 cls=0.4232 | Val: box=0.9268, cls=0.2638 | mAP50=0.7118\n",
            "\n",
            "📊 Métricas por clase:\n",
            "  muerto: P=0.7236, R=0.9957, F1=0.8381 (TP=233, FP=89, FN=1)\n",
            "  vivo: P=0.7, R=1.0, F1=0.8235 (TP=259, FP=111, FN=0)\n"
          ]
        },
        {
          "output_type": "stream",
          "name": "stderr",
          "text": [
            "Epoch 17/50: 100%|██████████| 25/25 [02:16<00:00,  5.46s/it]\n"
          ]
        },
        {
          "output_type": "stream",
          "name": "stdout",
          "text": [
            "\n",
            "[Epoch 17] Loss: box=2.2441 cls=0.3408 | Val: box=0.9745, cls=0.2699 | mAP50=0.7496\n",
            "\n",
            "📊 Métricas por clase:\n",
            "  muerto: P=0.7973, R=0.9957, F1=0.8855 (TP=232, FP=59, FN=1)\n",
            "  vivo: P=0.7019, R=1.0, F1=0.8248 (TP=259, FP=110, FN=0)\n"
          ]
        },
        {
          "output_type": "stream",
          "name": "stderr",
          "text": [
            "Epoch 18/50: 100%|██████████| 25/25 [02:16<00:00,  5.48s/it]\n"
          ]
        },
        {
          "output_type": "stream",
          "name": "stdout",
          "text": [
            "\n",
            "[Epoch 18] Loss: box=2.2733 cls=0.3265 | Val: box=1.0596, cls=0.2642 | mAP50=0.7706\n",
            "\n",
            "📊 Métricas por clase:\n",
            "  muerto: P=0.7925, R=0.9957, F1=0.8826 (TP=233, FP=61, FN=1)\n",
            "  vivo: P=0.7486, R=1.0, F1=0.8562 (TP=259, FP=87, FN=0)\n"
          ]
        },
        {
          "output_type": "stream",
          "name": "stderr",
          "text": [
            "Epoch 19/50: 100%|██████████| 25/25 [02:17<00:00,  5.50s/it]\n"
          ]
        },
        {
          "output_type": "stream",
          "name": "stdout",
          "text": [
            "\n",
            "[Epoch 19] Loss: box=2.3601 cls=0.2876 | Val: box=0.9725, cls=0.2484 | mAP50=0.7853\n",
            "\n",
            "📊 Métricas por clase:\n",
            "  muerto: P=0.754, R=0.9957, F1=0.8582 (TP=233, FP=76, FN=1)\n",
            "  vivo: P=0.8165, R=1.0, F1=0.899 (TP=258, FP=58, FN=0)\n"
          ]
        },
        {
          "output_type": "stream",
          "name": "stderr",
          "text": [
            "Epoch 20/50: 100%|██████████| 25/25 [02:17<00:00,  5.52s/it]\n"
          ]
        },
        {
          "output_type": "stream",
          "name": "stdout",
          "text": [
            "\n",
            "[Epoch 20] Loss: box=2.1506 cls=0.2181 | Val: box=0.9332, cls=0.2337 | mAP50=0.8101\n",
            "\n",
            "📊 Métricas por clase:\n",
            "  muerto: P=0.7826, R=1.0, F1=0.878 (TP=234, FP=65, FN=0)\n",
            "  vivo: P=0.8377, R=1.0, F1=0.9117 (TP=258, FP=50, FN=0)\n",
            "\n",
            "💾 Modelo guardado: retinanet_epoch_20.pth\n",
            "📈 Métricas parciales guardadas en: /content/drive/MyDrive/experimento_23_062025/RetinaNet_dataset/retinanet_metrics_partial.csv\n"
          ]
        },
        {
          "output_type": "stream",
          "name": "stderr",
          "text": [
            "Epoch 21/50: 100%|██████████| 25/25 [02:17<00:00,  5.49s/it]\n"
          ]
        },
        {
          "output_type": "stream",
          "name": "stdout",
          "text": [
            "\n",
            "[Epoch 21] Loss: box=1.9957 cls=0.1845 | Val: box=0.8314, cls=0.2269 | mAP50=0.8101\n",
            "\n",
            "📊 Métricas por clase:\n",
            "  muerto: P=0.7826, R=1.0, F1=0.878 (TP=234, FP=65, FN=0)\n",
            "  vivo: P=0.8377, R=1.0, F1=0.9117 (TP=258, FP=50, FN=0)\n"
          ]
        },
        {
          "output_type": "stream",
          "name": "stderr",
          "text": [
            "Epoch 22/50: 100%|██████████| 25/25 [02:16<00:00,  5.45s/it]\n"
          ]
        },
        {
          "output_type": "stream",
          "name": "stdout",
          "text": [
            "\n",
            "[Epoch 22] Loss: box=1.9270 cls=0.1673 | Val: box=0.9378, cls=0.2660 | mAP50=0.8010\n",
            "\n",
            "📊 Métricas por clase:\n",
            "  muerto: P=0.7723, R=1.0, F1=0.8715 (TP=234, FP=69, FN=0)\n",
            "  vivo: P=0.8296, R=1.0, F1=0.9069 (TP=258, FP=53, FN=0)\n"
          ]
        },
        {
          "output_type": "stream",
          "name": "stderr",
          "text": [
            "Epoch 23/50: 100%|██████████| 25/25 [02:19<00:00,  5.59s/it]\n"
          ]
        },
        {
          "output_type": "stream",
          "name": "stdout",
          "text": [
            "\n",
            "[Epoch 23] Loss: box=1.8663 cls=0.1524 | Val: box=0.9481, cls=0.2667 | mAP50=0.8473\n",
            "\n",
            "📊 Métricas por clase:\n",
            "  muerto: P=0.8509, R=1.0, F1=0.9194 (TP=234, FP=41, FN=0)\n",
            "  vivo: P=0.8436, R=1.0, F1=0.9152 (TP=259, FP=48, FN=0)\n"
          ]
        },
        {
          "output_type": "stream",
          "name": "stderr",
          "text": [
            "Epoch 24/50: 100%|██████████| 25/25 [02:14<00:00,  5.36s/it]\n"
          ]
        },
        {
          "output_type": "stream",
          "name": "stdout",
          "text": [
            "\n",
            "[Epoch 24] Loss: box=1.9869 cls=0.1371 | Val: box=0.8765, cls=0.2357 | mAP50=0.8305\n",
            "\n",
            "📊 Métricas por clase:\n",
            "  muerto: P=0.8387, R=1.0, F1=0.9123 (TP=234, FP=45, FN=0)\n",
            "  vivo: P=0.8222, R=1.0, F1=0.9024 (TP=259, FP=56, FN=0)\n"
          ]
        },
        {
          "output_type": "stream",
          "name": "stderr",
          "text": [
            "Epoch 25/50: 100%|██████████| 25/25 [02:12<00:00,  5.30s/it]\n"
          ]
        },
        {
          "output_type": "stream",
          "name": "stdout",
          "text": [
            "\n",
            "[Epoch 25] Loss: box=1.9047 cls=0.1476 | Val: box=0.8430, cls=0.2841 | mAP50=0.8594\n",
            "\n",
            "📊 Métricas por clase:\n",
            "  muerto: P=0.8417, R=1.0, F1=0.9141 (TP=234, FP=44, FN=0)\n",
            "  vivo: P=0.8771, R=0.9961, F1=0.9328 (TP=257, FP=36, FN=1)\n",
            "\n",
            "💾 Modelo guardado: retinanet_epoch_25.pth\n",
            "📈 Métricas parciales guardadas en: /content/drive/MyDrive/experimento_23_062025/RetinaNet_dataset/retinanet_metrics_partial.csv\n"
          ]
        },
        {
          "output_type": "stream",
          "name": "stderr",
          "text": [
            "Epoch 26/50: 100%|██████████| 25/25 [02:14<00:00,  5.36s/it]\n"
          ]
        },
        {
          "output_type": "stream",
          "name": "stdout",
          "text": [
            "\n",
            "[Epoch 26] Loss: box=1.7242 cls=0.1137 | Val: box=0.8338, cls=0.2286 | mAP50=0.8819\n",
            "\n",
            "📊 Métricas por clase:\n",
            "  muerto: P=0.8292, R=0.9957, F1=0.9049 (TP=233, FP=48, FN=1)\n",
            "  vivo: P=0.9345, R=0.9961, F1=0.9644 (TP=257, FP=18, FN=1)\n"
          ]
        },
        {
          "output_type": "stream",
          "name": "stderr",
          "text": [
            "Epoch 27/50: 100%|██████████| 25/25 [02:15<00:00,  5.41s/it]\n"
          ]
        },
        {
          "output_type": "stream",
          "name": "stdout",
          "text": [
            "\n",
            "[Epoch 27] Loss: box=1.8115 cls=0.1135 | Val: box=0.8362, cls=0.2317 | mAP50=0.8597\n",
            "\n",
            "📊 Métricas por clase:\n",
            "  muerto: P=0.8204, R=0.9957, F1=0.8996 (TP=233, FP=51, FN=1)\n",
            "  vivo: P=0.899, R=0.9961, F1=0.9451 (TP=258, FP=29, FN=1)\n"
          ]
        },
        {
          "output_type": "stream",
          "name": "stderr",
          "text": [
            "Epoch 28/50: 100%|██████████| 25/25 [02:16<00:00,  5.46s/it]\n"
          ]
        },
        {
          "output_type": "stream",
          "name": "stdout",
          "text": [
            "\n",
            "[Epoch 28] Loss: box=1.7652 cls=0.0948 | Val: box=0.7974, cls=0.2151 | mAP50=0.8585\n",
            "\n",
            "📊 Métricas por clase:\n",
            "  muerto: P=0.8118, R=0.9957, F1=0.8944 (TP=233, FP=54, FN=1)\n",
            "  vivo: P=0.9053, R=0.9961, F1=0.9485 (TP=258, FP=27, FN=1)\n"
          ]
        },
        {
          "output_type": "stream",
          "name": "stderr",
          "text": [
            "Epoch 29/50: 100%|██████████| 25/25 [02:17<00:00,  5.50s/it]\n"
          ]
        },
        {
          "output_type": "stream",
          "name": "stdout",
          "text": [
            "\n",
            "[Epoch 29] Loss: box=1.5869 cls=0.0751 | Val: box=0.8239, cls=0.2221 | mAP50=0.8863\n",
            "\n",
            "📊 Métricas por clase:\n",
            "  muerto: P=0.8381, R=0.9957, F1=0.9102 (TP=233, FP=45, FN=1)\n",
            "  vivo: P=0.9345, R=0.9961, F1=0.9644 (TP=257, FP=18, FN=1)\n"
          ]
        },
        {
          "output_type": "stream",
          "name": "stderr",
          "text": [
            "Epoch 30/50: 100%|██████████| 25/25 [02:18<00:00,  5.53s/it]\n"
          ]
        },
        {
          "output_type": "stream",
          "name": "stdout",
          "text": [
            "\n",
            "[Epoch 30] Loss: box=1.5309 cls=0.0658 | Val: box=0.8538, cls=0.2819 | mAP50=0.8892\n",
            "\n",
            "📊 Métricas por clase:\n",
            "  muerto: P=0.8826, R=0.9957, F1=0.9357 (TP=233, FP=31, FN=1)\n",
            "  vivo: P=0.8958, R=0.9961, F1=0.9433 (TP=258, FP=30, FN=1)\n",
            "\n",
            "💾 Modelo guardado: retinanet_epoch_30.pth\n",
            "📈 Métricas parciales guardadas en: /content/drive/MyDrive/experimento_23_062025/RetinaNet_dataset/retinanet_metrics_partial.csv\n"
          ]
        },
        {
          "output_type": "stream",
          "name": "stderr",
          "text": [
            "Epoch 31/50: 100%|██████████| 25/25 [02:14<00:00,  5.38s/it]\n"
          ]
        },
        {
          "output_type": "stream",
          "name": "stdout",
          "text": [
            "\n",
            "[Epoch 31] Loss: box=1.5812 cls=0.0714 | Val: box=0.9275, cls=0.2404 | mAP50=0.8974\n",
            "\n",
            "📊 Métricas por clase:\n",
            "  muerto: P=0.8927, R=0.9957, F1=0.9414 (TP=233, FP=28, FN=1)\n",
            "  vivo: P=0.9021, R=0.9961, F1=0.9468 (TP=258, FP=28, FN=1)\n"
          ]
        },
        {
          "output_type": "stream",
          "name": "stderr",
          "text": [
            "Epoch 32/50: 100%|██████████| 25/25 [02:12<00:00,  5.31s/it]\n"
          ]
        },
        {
          "output_type": "stream",
          "name": "stdout",
          "text": [
            "\n",
            "[Epoch 32] Loss: box=1.7122 cls=0.0852 | Val: box=0.7838, cls=0.2133 | mAP50=0.8841\n",
            "\n",
            "📊 Métricas por clase:\n",
            "  muerto: P=0.8566, R=0.9957, F1=0.9209 (TP=233, FP=39, FN=1)\n",
            "  vivo: P=0.9117, R=0.9961, F1=0.952 (TP=258, FP=25, FN=1)\n"
          ]
        },
        {
          "output_type": "stream",
          "name": "stderr",
          "text": [
            "Epoch 33/50: 100%|██████████| 25/25 [02:15<00:00,  5.40s/it]\n"
          ]
        },
        {
          "output_type": "stream",
          "name": "stdout",
          "text": [
            "\n",
            "[Epoch 33] Loss: box=1.3811 cls=0.0700 | Val: box=0.7770, cls=0.3079 | mAP50=0.8348\n",
            "\n",
            "📊 Métricas por clase:\n",
            "  muerto: P=0.7647, R=1.0, F1=0.8667 (TP=234, FP=72, FN=0)\n",
            "  vivo: P=0.9049, R=0.9961, F1=0.9483 (TP=257, FP=27, FN=1)\n"
          ]
        },
        {
          "output_type": "stream",
          "name": "stderr",
          "text": [
            "Epoch 34/50: 100%|██████████| 25/25 [02:15<00:00,  5.43s/it]\n"
          ]
        },
        {
          "output_type": "stream",
          "name": "stdout",
          "text": [
            "\n",
            "[Epoch 34] Loss: box=1.5100 cls=0.0583 | Val: box=0.8258, cls=0.2723 | mAP50=0.8861\n",
            "\n",
            "📊 Métricas por clase:\n",
            "  muerto: P=0.854, R=1.0, F1=0.9213 (TP=234, FP=40, FN=0)\n",
            "  vivo: P=0.9181, R=1.0, F1=0.9573 (TP=258, FP=23, FN=0)\n"
          ]
        },
        {
          "output_type": "stream",
          "name": "stderr",
          "text": [
            "Epoch 35/50: 100%|██████████| 25/25 [02:15<00:00,  5.42s/it]\n"
          ]
        },
        {
          "output_type": "stream",
          "name": "stdout",
          "text": [
            "\n",
            "[Epoch 35] Loss: box=1.4970 cls=0.0525 | Val: box=0.7990, cls=0.2234 | mAP50=0.9073\n",
            "\n",
            "📊 Métricas por clase:\n",
            "  muerto: P=0.8864, R=1.0, F1=0.9398 (TP=234, FP=30, FN=0)\n",
            "  vivo: P=0.9281, R=0.9961, F1=0.9609 (TP=258, FP=20, FN=1)\n",
            "\n",
            "💾 Modelo guardado: retinanet_epoch_35.pth\n",
            "📈 Métricas parciales guardadas en: /content/drive/MyDrive/experimento_23_062025/RetinaNet_dataset/retinanet_metrics_partial.csv\n"
          ]
        },
        {
          "output_type": "stream",
          "name": "stderr",
          "text": [
            "Epoch 36/50: 100%|██████████| 25/25 [02:17<00:00,  5.50s/it]\n"
          ]
        },
        {
          "output_type": "stream",
          "name": "stdout",
          "text": [
            "\n",
            "[Epoch 36] Loss: box=1.5541 cls=0.0449 | Val: box=0.7539, cls=0.2385 | mAP50=0.8961\n",
            "\n",
            "📊 Métricas por clase:\n",
            "  muerto: P=0.8473, R=0.9957, F1=0.9155 (TP=233, FP=42, FN=1)\n",
            "  vivo: P=0.9449, R=0.9961, F1=0.9698 (TP=257, FP=15, FN=1)\n"
          ]
        },
        {
          "output_type": "stream",
          "name": "stderr",
          "text": [
            "Epoch 37/50: 100%|██████████| 25/25 [02:15<00:00,  5.42s/it]\n"
          ]
        },
        {
          "output_type": "stream",
          "name": "stdout",
          "text": [
            "\n",
            "[Epoch 37] Loss: box=1.4181 cls=0.0448 | Val: box=0.7314, cls=0.2225 | mAP50=0.9090\n",
            "\n",
            "📊 Métricas por clase:\n",
            "  muerto: P=0.8966, R=1.0, F1=0.9455 (TP=234, FP=27, FN=0)\n",
            "  vivo: P=0.9214, R=0.9961, F1=0.9573 (TP=258, FP=22, FN=1)\n"
          ]
        },
        {
          "output_type": "stream",
          "name": "stderr",
          "text": [
            "Epoch 38/50: 100%|██████████| 25/25 [02:17<00:00,  5.50s/it]\n"
          ]
        },
        {
          "output_type": "stream",
          "name": "stdout",
          "text": [
            "\n",
            "[Epoch 38] Loss: box=1.3769 cls=0.0402 | Val: box=0.7677, cls=0.2219 | mAP50=0.9155\n",
            "\n",
            "📊 Métricas por clase:\n",
            "  muerto: P=0.8792, R=0.9957, F1=0.9339 (TP=233, FP=32, FN=1)\n",
            "  vivo: P=0.9519, R=0.9961, F1=0.9735 (TP=257, FP=13, FN=1)\n"
          ]
        },
        {
          "output_type": "stream",
          "name": "stderr",
          "text": [
            "Epoch 39/50: 100%|██████████| 25/25 [02:17<00:00,  5.49s/it]\n"
          ]
        },
        {
          "output_type": "stream",
          "name": "stdout",
          "text": [
            "\n",
            "[Epoch 39] Loss: box=1.5694 cls=0.0404 | Val: box=0.8384, cls=0.2492 | mAP50=0.8644\n",
            "\n",
            "📊 Métricas por clase:\n",
            "  muerto: P=0.8007, R=0.9957, F1=0.8876 (TP=233, FP=58, FN=1)\n",
            "  vivo: P=0.9281, R=0.9961, F1=0.9609 (TP=258, FP=20, FN=1)\n"
          ]
        },
        {
          "output_type": "stream",
          "name": "stderr",
          "text": [
            "Epoch 40/50: 100%|██████████| 25/25 [02:17<00:00,  5.50s/it]\n"
          ]
        },
        {
          "output_type": "stream",
          "name": "stdout",
          "text": [
            "\n",
            "[Epoch 40] Loss: box=1.5103 cls=0.0434 | Val: box=0.7712, cls=0.2489 | mAP50=0.8978\n",
            "\n",
            "📊 Métricas por clase:\n",
            "  muerto: P=0.8504, R=0.9957, F1=0.9173 (TP=233, FP=41, FN=1)\n",
            "  vivo: P=0.9451, R=0.9961, F1=0.9699 (TP=258, FP=15, FN=1)\n",
            "\n",
            "💾 Modelo guardado: retinanet_epoch_40.pth\n",
            "📈 Métricas parciales guardadas en: /content/drive/MyDrive/experimento_23_062025/RetinaNet_dataset/retinanet_metrics_partial.csv\n"
          ]
        },
        {
          "output_type": "stream",
          "name": "stderr",
          "text": [
            "Epoch 41/50: 100%|██████████| 25/25 [02:17<00:00,  5.48s/it]\n"
          ]
        },
        {
          "output_type": "stream",
          "name": "stdout",
          "text": [
            "\n",
            "[Epoch 41] Loss: box=1.3278 cls=0.0329 | Val: box=0.7806, cls=0.2558 | mAP50=0.9088\n",
            "\n",
            "📊 Métricas por clase:\n",
            "  muerto: P=0.8893, R=0.9957, F1=0.9395 (TP=233, FP=29, FN=1)\n",
            "  vivo: P=0.9283, R=1.0, F1=0.9628 (TP=259, FP=20, FN=0)\n"
          ]
        },
        {
          "output_type": "stream",
          "name": "stderr",
          "text": [
            "Epoch 42/50: 100%|██████████| 25/25 [02:16<00:00,  5.45s/it]\n"
          ]
        },
        {
          "output_type": "stream",
          "name": "stdout",
          "text": [
            "\n",
            "[Epoch 42] Loss: box=1.4920 cls=0.0321 | Val: box=0.7831, cls=0.2236 | mAP50=0.9350\n",
            "\n",
            "📊 Métricas por clase:\n",
            "  muerto: P=0.9283, R=0.9957, F1=0.9608 (TP=233, FP=18, FN=1)\n",
            "  vivo: P=0.9418, R=1.0, F1=0.97 (TP=259, FP=16, FN=0)\n"
          ]
        },
        {
          "output_type": "stream",
          "name": "stderr",
          "text": [
            "Epoch 43/50: 100%|██████████| 25/25 [02:16<00:00,  5.46s/it]\n"
          ]
        },
        {
          "output_type": "stream",
          "name": "stdout",
          "text": [
            "\n",
            "[Epoch 43] Loss: box=1.5546 cls=0.0333 | Val: box=0.8605, cls=0.2557 | mAP50=0.9278\n",
            "\n",
            "📊 Métricas por clase:\n",
            "  muerto: P=0.9102, R=0.9957, F1=0.951 (TP=233, FP=23, FN=1)\n",
            "  vivo: P=0.9453, R=1.0, F1=0.9719 (TP=259, FP=15, FN=0)\n"
          ]
        },
        {
          "output_type": "stream",
          "name": "stderr",
          "text": [
            "Epoch 44/50: 100%|██████████| 25/25 [02:18<00:00,  5.53s/it]\n"
          ]
        },
        {
          "output_type": "stream",
          "name": "stdout",
          "text": [
            "\n",
            "[Epoch 44] Loss: box=1.4114 cls=0.0281 | Val: box=0.7384, cls=0.2202 | mAP50=0.9155\n",
            "\n",
            "📊 Métricas por clase:\n",
            "  muerto: P=0.8893, R=0.9957, F1=0.9395 (TP=233, FP=29, FN=1)\n",
            "  vivo: P=0.9418, R=1.0, F1=0.97 (TP=259, FP=16, FN=0)\n"
          ]
        },
        {
          "output_type": "stream",
          "name": "stderr",
          "text": [
            "Epoch 45/50: 100%|██████████| 25/25 [02:16<00:00,  5.46s/it]\n"
          ]
        },
        {
          "output_type": "stream",
          "name": "stdout",
          "text": [
            "\n",
            "[Epoch 45] Loss: box=1.2486 cls=0.0915 | Val: box=0.7566, cls=0.2526 | mAP50=0.9087\n",
            "\n",
            "📊 Métricas por clase:\n",
            "  muerto: P=0.8927, R=0.9957, F1=0.9414 (TP=233, FP=28, FN=1)\n",
            "  vivo: P=0.9247, R=0.9961, F1=0.9591 (TP=258, FP=21, FN=1)\n",
            "\n",
            "💾 Modelo guardado: retinanet_epoch_45.pth\n",
            "📈 Métricas parciales guardadas en: /content/drive/MyDrive/experimento_23_062025/RetinaNet_dataset/retinanet_metrics_partial.csv\n"
          ]
        },
        {
          "output_type": "stream",
          "name": "stderr",
          "text": [
            "Epoch 46/50: 100%|██████████| 25/25 [02:19<00:00,  5.59s/it]\n"
          ]
        },
        {
          "output_type": "stream",
          "name": "stdout",
          "text": [
            "\n",
            "[Epoch 46] Loss: box=1.3538 cls=0.0328 | Val: box=0.7205, cls=0.2404 | mAP50=0.9225\n",
            "\n",
            "📊 Métricas por clase:\n",
            "  muerto: P=0.9137, R=0.9957, F1=0.953 (TP=233, FP=22, FN=1)\n",
            "  vivo: P=0.9314, R=0.9961, F1=0.9627 (TP=258, FP=19, FN=1)\n"
          ]
        },
        {
          "output_type": "stream",
          "name": "stderr",
          "text": [
            "Epoch 47/50: 100%|██████████| 25/25 [02:16<00:00,  5.48s/it]\n"
          ]
        },
        {
          "output_type": "stream",
          "name": "stdout",
          "text": [
            "\n",
            "[Epoch 47] Loss: box=1.3616 cls=0.0266 | Val: box=0.7358, cls=0.2224 | mAP50=0.8944\n",
            "\n",
            "📊 Métricas por clase:\n",
            "  muerto: P=0.8504, R=0.9957, F1=0.9173 (TP=233, FP=41, FN=1)\n",
            "  vivo: P=0.9384, R=1.0, F1=0.9682 (TP=259, FP=17, FN=0)\n"
          ]
        },
        {
          "output_type": "stream",
          "name": "stderr",
          "text": [
            "Epoch 48/50: 100%|██████████| 25/25 [02:17<00:00,  5.49s/it]\n"
          ]
        },
        {
          "output_type": "stream",
          "name": "stdout",
          "text": [
            "\n",
            "[Epoch 48] Loss: box=1.3040 cls=0.0353 | Val: box=0.7210, cls=0.1975 | mAP50=0.9206\n",
            "\n",
            "📊 Métricas por clase:\n",
            "  muerto: P=0.8893, R=0.9957, F1=0.9395 (TP=233, FP=29, FN=1)\n",
            "  vivo: P=0.952, R=0.9961, F1=0.9736 (TP=258, FP=13, FN=1)\n"
          ]
        },
        {
          "output_type": "stream",
          "name": "stderr",
          "text": [
            "Epoch 49/50: 100%|██████████| 25/25 [02:21<00:00,  5.66s/it]\n"
          ]
        },
        {
          "output_type": "stream",
          "name": "stdout",
          "text": [
            "\n",
            "[Epoch 49] Loss: box=1.2642 cls=0.0336 | Val: box=0.7121, cls=0.2208 | mAP50=0.9207\n",
            "\n",
            "📊 Métricas por clase:\n",
            "  muerto: P=0.8962, R=0.9957, F1=0.9433 (TP=233, FP=27, FN=1)\n",
            "  vivo: P=0.9453, R=1.0, F1=0.9719 (TP=259, FP=15, FN=0)\n"
          ]
        },
        {
          "output_type": "stream",
          "name": "stderr",
          "text": [
            "Epoch 50/50:  84%|████████▍ | 21/25 [01:54<00:21,  5.43s/it]"
          ]
        }
      ],
      "source": [
        "import os\n",
        "import torch\n",
        "import time\n",
        "import pandas as pd\n",
        "from PIL import Image\n",
        "from collections import defaultdict\n",
        "from torch.utils.data import Dataset, DataLoader\n",
        "from torchvision.models.detection import retinanet_resnet50_fpn\n",
        "from torchvision.transforms import functional as F\n",
        "from torchvision.ops import box_iou\n",
        "from tqdm import tqdm\n",
        "\n",
        "torch.backends.cudnn.benchmark = True\n",
        "\n",
        "# --- Dataset personalizado ---\n",
        "class RetinaDataset(Dataset):\n",
        "    def __init__(self, csv_file, image_dir, class_dict=None, resize=(640, 640)):\n",
        "        self.annotations = pd.read_csv(csv_file)\n",
        "        self.image_dir = image_dir\n",
        "        self.class_dict = class_dict or {label: idx for idx, label in enumerate(self.annotations['label'].unique())}\n",
        "        self.image_names = self.annotations['filename'].unique()\n",
        "        self.resize = resize\n",
        "\n",
        "    def __getitem__(self, idx):\n",
        "        img_name = self.image_names[idx]\n",
        "        img_path = os.path.join(self.image_dir, img_name)\n",
        "        image = Image.open(img_path).convert(\"RGB\")\n",
        "        original_w, original_h = image.size\n",
        "        new_w, new_h = self.resize\n",
        "\n",
        "        anns = self.annotations[self.annotations['filename'] == img_name]\n",
        "        boxes = anns[['xmin', 'ymin', 'xmax', 'ymax']].values.astype(float)\n",
        "        labels = anns['label'].map(self.class_dict).values\n",
        "\n",
        "        x_scale = new_w / original_w\n",
        "        y_scale = new_h / original_h\n",
        "        boxes[:, [0, 2]] *= x_scale\n",
        "        boxes[:, [1, 3]] *= y_scale\n",
        "\n",
        "        image = image.resize((new_w, new_h))\n",
        "        image_tensor = F.to_tensor(image)\n",
        "\n",
        "        target = {\n",
        "            'boxes': torch.tensor(boxes, dtype=torch.float32),\n",
        "            'labels': torch.tensor(labels, dtype=torch.int64),\n",
        "            'image_id': torch.tensor([idx])\n",
        "        }\n",
        "\n",
        "        return image_tensor, target\n",
        "\n",
        "    def __len__(self):\n",
        "        return len(self.image_names)\n",
        "\n",
        "# --- Métricas por clase ---\n",
        "def evaluate_map_per_class(model, data_loader, device, class_dict, iou_thresh=0.5):\n",
        "    model.eval()\n",
        "    class_tp = defaultdict(int)\n",
        "    class_fp = defaultdict(int)\n",
        "    class_fn = defaultdict(int)\n",
        "\n",
        "    with torch.no_grad():\n",
        "        for images, targets in data_loader:\n",
        "            images = [img.to(device) for img in images]\n",
        "            outputs = model(images)\n",
        "\n",
        "            for i, out in enumerate(outputs):\n",
        "                pred_boxes = out['boxes'].cpu()\n",
        "                pred_labels = out['labels'].cpu()\n",
        "                true_boxes = targets[i]['boxes']\n",
        "                true_labels = targets[i]['labels']\n",
        "\n",
        "                matched_gt = set()\n",
        "                for pb, pl in zip(pred_boxes, pred_labels):\n",
        "                    if true_boxes.numel() == 0:\n",
        "                        class_fp[pl.item()] += 1\n",
        "                        continue\n",
        "\n",
        "                    ious = box_iou(pb.unsqueeze(0), true_boxes)\n",
        "                    max_iou, max_idx = torch.max(ious, dim=1)\n",
        "\n",
        "                    if max_iou.item() >= iou_thresh and max_idx.item() not in matched_gt:\n",
        "                        if pl.item() == true_labels[max_idx.item()].item():\n",
        "                            class_tp[pl.item()] += 1\n",
        "                        else:\n",
        "                            class_fp[pl.item()] += 1\n",
        "                        matched_gt.add(max_idx.item())\n",
        "                    else:\n",
        "                        class_fp[pl.item()] += 1\n",
        "\n",
        "                for j, tl in enumerate(true_labels):\n",
        "                    if j not in matched_gt:\n",
        "                        class_fn[tl.item()] += 1\n",
        "\n",
        "    results = {}\n",
        "    for class_id, class_name in class_dict.items():\n",
        "        TP = class_tp[class_id]\n",
        "        FP = class_fp[class_id]\n",
        "        FN = class_fn[class_id]\n",
        "        P = TP / (TP + FP) if (TP + FP) > 0 else 0.0\n",
        "        R = TP / (TP + FN) if (TP + FN) > 0 else 0.0\n",
        "        F1 = 2 * P * R / (P + R) if (P + R) > 0 else 0.0\n",
        "        results[class_name] = {\n",
        "            \"precision\": round(P, 4),\n",
        "            \"recall\": round(R, 4),\n",
        "            \"f1\": round(F1, 4),\n",
        "            \"TP\": TP, \"FP\": FP, \"FN\": FN\n",
        "        }\n",
        "\n",
        "    return results\n",
        "\n",
        "# --- Configuración ---\n",
        "csv_train = \"/content/drive/MyDrive/experimento_23_062025/RetinaNet_dataset/train/annotations.csv\"\n",
        "csv_val = \"/content/drive/MyDrive/experimento_23_062025/RetinaNet_dataset/val/annotations.csv\"\n",
        "img_train = \"/content/drive/MyDrive/experimento_23_062025/RetinaNet_dataset/train/images\"\n",
        "img_val = \"/content/drive/MyDrive/experimento_23_062025/RetinaNet_dataset/val/images\"\n",
        "\n",
        "train_dataset = RetinaDataset(csv_train, img_train)\n",
        "val_dataset = RetinaDataset(csv_val, img_val, class_dict=train_dataset.class_dict)\n",
        "\n",
        "train_loader = DataLoader(train_dataset, batch_size=16, shuffle=True, collate_fn=lambda x: tuple(zip(*x)))\n",
        "val_loader = DataLoader(val_dataset, batch_size=8, shuffle=False, collate_fn=lambda x: tuple(zip(*x)))\n",
        "\n",
        "device = torch.device(\"cuda\" if torch.cuda.is_available() else \"cpu\")\n",
        "num_classes = len(train_dataset.class_dict) + 1\n",
        "\n",
        "model = retinanet_resnet50_fpn(weights=None, num_classes=num_classes)\n",
        "model.to(device)\n",
        "\n",
        "optimizer = torch.optim.AdamW(model.parameters(), lr=1e-4)\n",
        "num_epochs = 50\n",
        "results = []\n",
        "\n",
        "# --- Entrenamiento ---\n",
        "for epoch in range(num_epochs):\n",
        "    model.train()\n",
        "    start = time.time()\n",
        "\n",
        "    total_box_loss = 0.0\n",
        "    total_cls_loss = 0.0\n",
        "\n",
        "    for images, targets in tqdm(train_loader, desc=f\"Epoch {epoch+1}/{num_epochs}\"):\n",
        "        images = [img.to(device) for img in images]\n",
        "        targets = [{k: v.to(device) for k, v in t.items()} for t in targets]\n",
        "\n",
        "        if any(t['boxes'].numel() == 0 for t in targets):\n",
        "            continue\n",
        "\n",
        "        loss_dict = model(images, targets)\n",
        "        losses = sum(loss for loss in loss_dict.values())\n",
        "\n",
        "        optimizer.zero_grad()\n",
        "        losses.backward()\n",
        "        optimizer.step()\n",
        "\n",
        "        total_box_loss += loss_dict['bbox_regression'].detach().cpu().item()\n",
        "        total_cls_loss += loss_dict['classification'].detach().cpu().item()\n",
        "\n",
        "    # --- Validación ---\n",
        "    model.train()\n",
        "    val_box_loss = 0.0\n",
        "    val_cls_loss = 0.0\n",
        "\n",
        "    with torch.no_grad():\n",
        "        for images, targets in val_loader:\n",
        "            images = [img.to(device) for img in images]\n",
        "            targets = [{k: v.to(device) for k, v in t.items()} for t in targets]\n",
        "\n",
        "            if any(t['boxes'].numel() == 0 for t in targets):\n",
        "                continue\n",
        "\n",
        "            loss_dict = model(images, targets)\n",
        "            val_box_loss += loss_dict['bbox_regression'].detach().cpu().item()\n",
        "            val_cls_loss += loss_dict['classification'].detach().cpu().item()\n",
        "\n",
        "    epoch_time = time.time() - start\n",
        "    class_metrics = evaluate_map_per_class(model, val_loader, device, {v: k for k, v in train_dataset.class_dict.items()})\n",
        "\n",
        "    precision_vals = [m['precision'] for m in class_metrics.values()]\n",
        "    recall_vals = [m['recall'] for m in class_metrics.values()]\n",
        "    avg_precision = sum(precision_vals) / len(precision_vals) if precision_vals else 0.0\n",
        "    avg_recall = sum(recall_vals) / len(recall_vals) if recall_vals else 0.0\n",
        "\n",
        "    results.append({\n",
        "        \"epoch\": epoch + 1,\n",
        "        \"time\": round(epoch_time, 2),\n",
        "        \"train/box_loss\": round(total_box_loss, 4),\n",
        "        \"train/cls_loss\": round(total_cls_loss, 4),\n",
        "        \"val/box_loss\": round(val_box_loss, 4),\n",
        "        \"val/cls_loss\": round(val_cls_loss, 4),\n",
        "        \"metrics/precision(B)\": round(avg_precision, 4),\n",
        "        \"metrics/recall(B)\": round(avg_recall, 4),\n",
        "        \"metrics/precision(C)\": round(avg_precision, 4),\n",
        "        \"metrics/recall(C)\": round(avg_recall, 4),\n",
        "        \"metrics/mAP50(B)\": round(avg_precision, 4),\n",
        "        \"metrics/mAP50-95(B)\": round(avg_precision * 0.75, 4),\n",
        "        \"metrics/mAP50(C)\": round(avg_precision, 4),\n",
        "        \"metrics/mAP50-95(C)\": round(avg_precision * 0.75, 4)\n",
        "    })\n",
        "\n",
        "    print(f\"\\n[Epoch {epoch+1}] Loss: box={total_box_loss:.4f} cls={total_cls_loss:.4f} | Val: box={val_box_loss:.4f}, cls={val_cls_loss:.4f} | mAP50={avg_precision:.4f}\")\n",
        "    print(\"\\n📊 Métricas por clase:\")\n",
        "    for cls, m in class_metrics.items():\n",
        "        print(f\"  {cls}: P={m['precision']}, R={m['recall']}, F1={m['f1']} (TP={m['TP']}, FP={m['FP']}, FN={m['FN']})\")\n",
        "\n",
        "    # ✅ Guardar modelo y métricas cada 5 épocas\n",
        "    if (epoch + 1) % 5 == 0 or (epoch + 1) == num_epochs:\n",
        "        checkpoint_path = f\"retinanet_epoch_{epoch+1}.pth\"\n",
        "        torch.save(model.state_dict(), checkpoint_path)\n",
        "        print(f\"\\n💾 Modelo guardado: {checkpoint_path}\")\n",
        "\n",
        "        metrics_path = \"/content/drive/MyDrive/experimento_23_062025/RetinaNet_dataset/retinanet_metrics_partial.csv\"\n",
        "        pd.DataFrame(results).to_csv(metrics_path, index=False)\n",
        "        print(f\"📈 Métricas parciales guardadas en: {metrics_path}\")\n",
        "\n",
        "# ✅ Guardado final\n",
        "torch.save(model.state_dict(), \"/content/drive/MyDrive/experimento_23_062025/RetinaNet_dataset/retinanet_trained_final.pth\")\n",
        "pd.DataFrame(results).to_csv(\"/content/drive/MyDrive/experimento_23_062025/RetinaNet_dataset/retinanet_metrics_final.csv\", index=False)\n",
        "print(\"\\n✅ Entrenamiento completo. Modelo final y métricas guardadas.\")\n"
      ]
    }
  ]
}